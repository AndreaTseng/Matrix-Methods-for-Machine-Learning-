{
 "cells": [
  {
   "cell_type": "code",
   "execution_count": 2,
   "metadata": {},
   "outputs": [
    {
     "name": "stdout",
     "output_type": "stream",
     "text": [
      "Title of the 1st ranked page: \"Wisconsin\"\n",
      "Title of the 3rd ranked page: \"Madison, Wisconsin\"\n"
     ]
    }
   ],
   "source": [
    "import numpy as np\n",
    "from scipy.sparse import csc_matrix\n",
    "from scipy.sparse.linalg import eigs\n",
    "\n",
    "edges_file = open('wisconsin_edges.csv', \"r\")\n",
    "nodes_file = open('wisconsin_nodes.csv', \"r\")\n",
    "\n",
    "# create a dictionary where nodes_dict[i] = name of wikipedia page\n",
    "nodes_dict = {}\n",
    "for line in nodes_file:\n",
    "    nodes_dict[int(line.split(',',1)[0].strip())] = line.split(',',1)[1].strip()\n",
    "\n",
    "node_count = len(nodes_dict)\n",
    "\n",
    "# create adjacency matrix\n",
    "A = np.zeros((node_count, node_count))\n",
    "for line in edges_file:\n",
    "    from_node = int(line.split(',')[0].strip())\n",
    "    to_node = int(line.split(',')[1].strip())\n",
    "    A[to_node, from_node] = 1.0\n",
    "\n",
    "## Add code below to (1) prevent traps and (2) find the most important pages     \n",
    "# Hint -- instead of computing the entire eigen-decomposition of a matrix X using\n",
    "# s, E = np.linalg.eig(A)\n",
    "# you can compute just the first eigenvector with:\n",
    "# s, E = eigs(csc_matrix(A), k = 1)\n",
    "\n",
    "# (i) Prevent traps by adding a small value to each entry of A\n",
    "A += 0.001\n",
    "\n",
    "# (ii) Normalize A by column\n",
    "A = A / A.sum(axis=0)\n",
    "\n",
    "# (iii) Use an eigen decomposition to rank the importance of the Wikipedia pages\n",
    "# Since A is now a dense matrix, convert it to a sparse matrix for efficient computation\n",
    "A_sparse = csc_matrix(A)\n",
    "\n",
    "# Find the principal eigenvector (PageRank values)\n",
    "# Note: eigs finds the largest eigenvalues and associated eigenvectors of the matrix\n",
    "s, E = eigs(A_sparse, k=1, which='LR')\n",
    "\n",
    "# The principal eigenvector is the PageRank vector. Normalize it to sum to 1.\n",
    "page_rank = np.abs(E[:, 0]) / np.sum(np.abs(E[:, 0]))\n",
    "\n",
    "# Sort the PageRank values in descending order and get the indices\n",
    "sorted_indices = np.argsort(page_rank)[::-1]\n",
    "\n",
    "# b) Get the title of the page ranked 1st\n",
    "first_page_title = nodes_dict[sorted_indices[0]]\n",
    "\n",
    "# c) Get the title of the page ranked 3rd\n",
    "third_page_title = nodes_dict[sorted_indices[2]]\n",
    "\n",
    "print(\"Title of the 1st ranked page:\", first_page_title)\n",
    "print(\"Title of the 3rd ranked page:\", third_page_title)"
   ]
  }
 ],
 "metadata": {
  "kernelspec": {
   "display_name": "Python 3",
   "language": "python",
   "name": "python3"
  },
  "language_info": {
   "codemirror_mode": {
    "name": "ipython",
    "version": 3
   },
   "file_extension": ".py",
   "mimetype": "text/x-python",
   "name": "python",
   "nbconvert_exporter": "python",
   "pygments_lexer": "ipython3",
   "version": "3.11.5"
  }
 },
 "nbformat": 4,
 "nbformat_minor": 2
}
